{
 "cells": [
  {
   "cell_type": "markdown",
   "id": "80397542-cc63-4faa-be37-082d280dddd7",
   "metadata": {},
   "source": [
    "# Calculate metrics\n",
    "\n",
    "To illustrate the toolkit's ability to compare various synthesizer, let's calculate quality metrics for 4 distinct single-table datasets and 17 synthetic versions each, that were published as part of [Platzer and Reutterer (2021)](https://www.frontiersin.org/journals/big-data/articles/10.3389/fdata.2021.679939/full).\n",
    "\n",
    "Note, that each generated report will take several minutes, thus total computation can take several hours."
   ]
  },
  {
   "cell_type": "code",
   "execution_count": null,
   "id": "initial_id",
   "metadata": {},
   "outputs": [],
   "source": [
    "import pandas as pd\n",
    "from mostlyai import qa\n",
    "\n",
    "qa.init_logging()  # initialize logging to stdout\n",
    "\n",
    "path = \"https://github.com/mostly-ai/paper-fidelity-accuracy/raw/refs/heads/main/data/\"\n",
    "datasets = [\"adult\", \"bank-marketing\", \"credit-default\", \"online-shoppers\"]\n",
    "synthesizers = [\n",
    "    \"mostly\",\n",
    "    \"mostly_e1\",\n",
    "    \"mostly_e2\",\n",
    "    \"mostly_e4\",\n",
    "    \"mostly_e8\",\n",
    "    \"flip10\",\n",
    "    \"flip20\",\n",
    "    \"flip30\",\n",
    "    \"flip40\",\n",
    "    \"flip50\",\n",
    "    \"flip60\",\n",
    "    \"flip70\",\n",
    "    \"flip80\",\n",
    "    \"flip90\",\n",
    "    \"gretel\",\n",
    "    \"synthpop\",\n",
    "    \"ctgan\",\n",
    "]\n",
    "\n",
    "# ENABLE HERE FOR REPRODUCING BENCHMARK RESULTS\n",
    "if False:\n",
    "    rows = []\n",
    "    for dataset in datasets:\n",
    "        tgt = pd.read_csv(path + f\"{dataset}_trn.csv.gz\")\n",
    "        hol = pd.read_csv(path + f\"{dataset}_val.csv.gz\")\n",
    "        for synthesizer in synthesizers:\n",
    "            try:\n",
    "                syn = pd.read_csv(path + f\"{dataset}_{synthesizer}.csv.gz\")\n",
    "                print(dataset, synthesizer, tgt.shape, hol.shape, syn.shape)\n",
    "                report_path, metrics = qa.report(\n",
    "                    syn_tgt_data=syn,\n",
    "                    trn_tgt_data=tgt,\n",
    "                    hol_tgt_data=hol,\n",
    "                )\n",
    "                row = pd.json_normalize(metrics.model_dump(), sep=\"_\")\n",
    "                row.insert(0, \"dataset\", dataset)\n",
    "                row.insert(1, \"synthesizer\", synthesizer)\n",
    "                rows += [row]\n",
    "            except Exception as e:\n",
    "                print(e)\n",
    "\n",
    "    df = pd.DataFrame(rows)\n",
    "    df.to_csv(\"benchmark-examples.csv\", index=False)"
   ]
  },
  {
   "cell_type": "markdown",
   "id": "747b286c-66d2-4e91-b150-87c4b3356e83",
   "metadata": {},
   "source": [
    "## Compare metrics\n",
    "\n",
    "Calculate ratios with respect to holdout (north star), and visualize as a privacy-utility trade-off curve."
   ]
  },
  {
   "cell_type": "code",
   "execution_count": null,
   "id": "98420371-8893-4877-b7f0-c083c923fdd9",
   "metadata": {},
   "outputs": [],
   "source": [
    "import pandas as pd\n",
    "\n",
    "# load results\n",
    "df = pd.read_csv(\"benchmark-examples.csv\")\n",
    "# calculate ratios with respect to Holdout\n",
    "df[\"acc_ratio\"] = df[\"accuracy_overall\"] / df[\"accuracy_overall_max\"]\n",
    "df[\"sim_ratio\"] = (\n",
    "    df[\"similarity_cosine_similarity_training_synthetic\"] / df[\"similarity_cosine_similarity_training_holdout\"]\n",
    ")\n",
    "df[\"dcr_ratio\"] = df[\"distances_dcr_training\"] / df[\"distances_dcr_holdout\"]\n",
    "df"
   ]
  },
  {
   "cell_type": "code",
   "execution_count": null,
   "id": "258a91c1-9895-437e-b8b9-71b98711d332",
   "metadata": {},
   "outputs": [],
   "source": [
    "import matplotlib.pyplot as plt\n",
    "\n",
    "\n",
    "def plot_dataset(df, dataset):\n",
    "    # Define the color mapping for each synthesizer\n",
    "    color_mapping = {\n",
    "        \"mostly\": \"blue\",\n",
    "        \"mostly_e1\": \"#bdd7e7\",\n",
    "        \"mostly_e2\": \"#6baed6\",\n",
    "        \"mostly_e4\": \"#3182bd\",\n",
    "        \"mostly_e8\": \"#215b85\",\n",
    "        \"flip10\": \"#810f7c\",\n",
    "        \"flip20\": \"#810f7c\",\n",
    "        \"flip30\": \"#810f7c\",\n",
    "        \"flip40\": \"#810f7c\",\n",
    "        \"flip50\": \"#810f7c\",\n",
    "        \"flip60\": \"#810f7c\",\n",
    "        \"flip70\": \"#810f7c\",\n",
    "        \"flip80\": \"#810f7c\",\n",
    "        \"flip90\": \"#810f7c\",\n",
    "        \"synthpop\": \"red\",\n",
    "        \"gretel\": \"orange\",\n",
    "        \"ctgan\": \"green\",\n",
    "    }\n",
    "\n",
    "    def scatter_plot(ax, x, y, x_label, y_label):\n",
    "        ax.set_xlabel(x_label)\n",
    "        ax.set_ylabel(y_label)\n",
    "        ax.grid(True)\n",
    "        for _, row in df.iterrows():\n",
    "            ax.scatter(row[x], row[y], color=color_mapping[row[\"synthesizer\"]], s=100, label=row[\"synthesizer\"])\n",
    "        ax.axhline(y=1, color=\"black\", linestyle=\"--\")\n",
    "        ax.axvline(x=1, color=\"black\", linestyle=\"--\")\n",
    "        ax.scatter(1, 1, color=\"black\", s=100, edgecolor=\"black\", zorder=5)\n",
    "\n",
    "    fig, axes = plt.subplots(1, 2, figsize=(14, 5))\n",
    "    axes[0].set_title(f\"{dataset} - Accuracy vs Distances\")\n",
    "    scatter_plot(axes[0], \"acc_ratio\", \"dcr_ratio\", \"Accuracy Ratio (acc/acc_max)\", \"Distances Ratio (dcr_trn/dcr_hol)\")\n",
    "\n",
    "    axes[1].set_title(f\"{dataset} - Similarity vs Distances\")\n",
    "    scatter_plot(\n",
    "        axes[1],\n",
    "        \"sim_ratio\",\n",
    "        \"dcr_ratio\",\n",
    "        \"Similarity Ratio (sim_trn_syn/sim_trn_hol)\",\n",
    "        \"Distances Ratio (dcr_trn/dcr_hol)\",\n",
    "    )\n",
    "\n",
    "    handles, labels = axes[0].get_legend_handles_labels()\n",
    "    by_label = dict(zip(labels, handles))\n",
    "    fig.legend(by_label.values(), by_label.keys(), title=\"Synthesizer\", bbox_to_anchor=(0.995, 0.98), loc=\"upper left\")\n",
    "\n",
    "    plt.tight_layout()\n",
    "    # plt.savefig('fig_adult.png')"
   ]
  },
  {
   "cell_type": "code",
   "execution_count": null,
   "id": "8ee02e02-2370-480f-a76e-1e7c044a725e",
   "metadata": {},
   "outputs": [],
   "source": [
    "plot_dataset(df.loc[(df.dataset == \"adult\") & ~df.synthesizer.isin([\"ctgan\", \"mostly_e1\"])], \"Adult\")"
   ]
  },
  {
   "cell_type": "code",
   "execution_count": null,
   "id": "f1fc39df-6e95-43f0-bc76-45d2a4a4f852",
   "metadata": {},
   "outputs": [],
   "source": [
    "plot_dataset(df.loc[(df.dataset == \"bank-marketing\") & ~df.synthesizer.isin([\"ctgan\", \"mostly_e1\"])], \"Bank Marketing\")"
   ]
  },
  {
   "cell_type": "code",
   "execution_count": null,
   "id": "2ab32edf-61f0-4550-a942-0e679df8efe1",
   "metadata": {},
   "outputs": [],
   "source": [
    "plot_dataset(df.loc[(df.dataset == \"credit-default\") & ~df.synthesizer.isin([\"ctgan\", \"mostly_e1\"])], \"Credit Default\")"
   ]
  },
  {
   "cell_type": "code",
   "execution_count": null,
   "id": "37778260-1535-481b-abf4-3bf493a49127",
   "metadata": {},
   "outputs": [],
   "source": [
    "plot_dataset(\n",
    "    df.loc[(df.dataset == \"online-shoppers\") & ~df.synthesizer.isin([\"ctgan\", \"mostly_e1\"])], \"Online Shoppers\"\n",
    ")"
   ]
  }
 ],
 "metadata": {
  "kernelspec": {
   "display_name": "Python 3 (ipykernel)",
   "language": "python",
   "name": "python3"
  },
  "language_info": {
   "codemirror_mode": {
    "name": "ipython",
    "version": 3
   },
   "file_extension": ".py",
   "mimetype": "text/x-python",
   "name": "python",
   "nbconvert_exporter": "python",
   "pygments_lexer": "ipython3",
   "version": "3.12.3"
  }
 },
 "nbformat": 4,
 "nbformat_minor": 5
}
