{
 "cells": [
  {
   "cell_type": "markdown",
   "id": "e0de43fa-e337-4590-ac48-9574c2283795",
   "metadata": {},
   "source": [
    "# Example: Quick start"
   ]
  },
  {
   "cell_type": "code",
   "execution_count": 1,
   "id": "5c2afb34-600a-42a0-86c1-4ccdce006adf",
   "metadata": {},
   "outputs": [
    {
     "data": {
      "application/vnd.jupyter.widget-view+json": {
       "model_id": "56dcaf8620fd426883219c30497b1cae",
       "version_major": 2,
       "version_minor": 0
      },
      "text/plain": [
       "Creating report:   0%|          | 0/100 [00:00<?, ?it/s]"
      ]
     },
     "metadata": {},
     "output_type": "display_data"
    },
    {
     "name": "stdout",
     "output_type": "stream",
     "text": [
      "{\n",
      "    \"accuracy\": {\n",
      "        \"overall\": 0.937,\n",
      "        \"univariate\": 0.961,\n",
      "        \"bivariate\": 0.912,\n",
      "        \"coherence\": null,\n",
      "        \"overall_max\": 0.959,\n",
      "        \"univariate_max\": 0.976,\n",
      "        \"bivariate_max\": 0.941,\n",
      "        \"coherence_max\": null\n",
      "    },\n",
      "    \"similarity\": {\n",
      "        \"cosine_similarity_training_synthetic\": 0.9995158,\n",
      "        \"cosine_similarity_training_holdout\": 0.9998459,\n",
      "        \"discriminator_auc_training_synthetic\": 0.592,\n",
      "        \"discriminator_auc_training_holdout\": 0.503\n",
      "    },\n",
      "    \"distances\": {\n",
      "        \"ims_training\": 0.0,\n",
      "        \"ims_holdout\": 0.0,\n",
      "        \"dcr_training\": 0.305,\n",
      "        \"dcr_holdout\": 0.308,\n",
      "        \"dcr_share\": 0.511\n",
      "    }\n",
      "}\n"
     ]
    },
    {
     "data": {
      "text/plain": [
       "True"
      ]
     },
     "execution_count": 1,
     "metadata": {},
     "output_type": "execute_result"
    }
   ],
   "source": [
    "import pandas as pd\n",
    "import webbrowser\n",
    "import json\n",
    "from mostlyai import qa\n",
    "\n",
    "# fetch original + synthetic data\n",
    "base_url = \"https://github.com/mostly-ai/mostlyai-qa/raw/refs/heads/main/examples/quick-start\"\n",
    "syn = pd.read_csv(f\"{base_url}/census2k-syn_mostly.csv.gz\")\n",
    "# syn = pd.read_csv(f'{base_url}/census2k-syn_flip30.csv.gz') # a 30% perturbation of trn\n",
    "trn = pd.read_csv(f\"{base_url}/census2k-trn.csv.gz\")\n",
    "hol = pd.read_csv(f\"{base_url}/census2k-hol.csv.gz\")\n",
    "\n",
    "# runs for ~30secs\n",
    "report_path, metrics = qa.report(\n",
    "    syn_tgt_data=syn,\n",
    "    trn_tgt_data=trn,\n",
    "    hol_tgt_data=hol,\n",
    ")\n",
    "\n",
    "# pretty print metrics\n",
    "print(json.dumps(metrics.model_dump(), indent=4))\n",
    "\n",
    "# open up HTML report in new browser window\n",
    "webbrowser.open(f\"file://{report_path.absolute()}\")"
   ]
  },
  {
   "cell_type": "code",
   "execution_count": 7,
   "id": "db7213c4-ea05-4908-b8d0-2f3795f16539",
   "metadata": {},
   "outputs": [
    {
     "data": {
      "text/html": [
       "<div>\n",
       "<style scoped>\n",
       "    .dataframe tbody tr th:only-of-type {\n",
       "        vertical-align: middle;\n",
       "    }\n",
       "\n",
       "    .dataframe tbody tr th {\n",
       "        vertical-align: top;\n",
       "    }\n",
       "\n",
       "    .dataframe thead th {\n",
       "        text-align: right;\n",
       "    }\n",
       "</style>\n",
       "<table border=\"1\" class=\"dataframe\">\n",
       "  <thead>\n",
       "    <tr style=\"text-align: right;\">\n",
       "      <th></th>\n",
       "      <th>accuracy_overall</th>\n",
       "      <th>accuracy_univariate</th>\n",
       "      <th>accuracy_bivariate</th>\n",
       "      <th>accuracy_coherence</th>\n",
       "      <th>accuracy_overall_max</th>\n",
       "      <th>accuracy_univariate_max</th>\n",
       "      <th>accuracy_bivariate_max</th>\n",
       "      <th>accuracy_coherence_max</th>\n",
       "      <th>similarity_cosine_similarity_training_synthetic</th>\n",
       "      <th>similarity_cosine_similarity_training_holdout</th>\n",
       "      <th>similarity_discriminator_auc_training_synthetic</th>\n",
       "      <th>similarity_discriminator_auc_training_holdout</th>\n",
       "      <th>distances_ims_training</th>\n",
       "      <th>distances_ims_holdout</th>\n",
       "      <th>distances_dcr_training</th>\n",
       "      <th>distances_dcr_holdout</th>\n",
       "      <th>distances_dcr_share</th>\n",
       "    </tr>\n",
       "  </thead>\n",
       "  <tbody>\n",
       "    <tr>\n",
       "      <th>0</th>\n",
       "      <td>0.937</td>\n",
       "      <td>0.961</td>\n",
       "      <td>0.912</td>\n",
       "      <td>None</td>\n",
       "      <td>0.959</td>\n",
       "      <td>0.976</td>\n",
       "      <td>0.941</td>\n",
       "      <td>None</td>\n",
       "      <td>0.999516</td>\n",
       "      <td>0.999846</td>\n",
       "      <td>0.592</td>\n",
       "      <td>0.503</td>\n",
       "      <td>0.0</td>\n",
       "      <td>0.0</td>\n",
       "      <td>0.305</td>\n",
       "      <td>0.308</td>\n",
       "      <td>0.511</td>\n",
       "    </tr>\n",
       "  </tbody>\n",
       "</table>\n",
       "</div>"
      ],
      "text/plain": [
       "   accuracy_overall  accuracy_univariate  accuracy_bivariate  \\\n",
       "0             0.937                0.961               0.912   \n",
       "\n",
       "  accuracy_coherence  accuracy_overall_max  accuracy_univariate_max  \\\n",
       "0               None                 0.959                    0.976   \n",
       "\n",
       "   accuracy_bivariate_max accuracy_coherence_max  \\\n",
       "0                   0.941                   None   \n",
       "\n",
       "   similarity_cosine_similarity_training_synthetic  \\\n",
       "0                                         0.999516   \n",
       "\n",
       "   similarity_cosine_similarity_training_holdout  \\\n",
       "0                                       0.999846   \n",
       "\n",
       "   similarity_discriminator_auc_training_synthetic  \\\n",
       "0                                            0.592   \n",
       "\n",
       "   similarity_discriminator_auc_training_holdout  distances_ims_training  \\\n",
       "0                                          0.503                     0.0   \n",
       "\n",
       "   distances_ims_holdout  distances_dcr_training  distances_dcr_holdout  \\\n",
       "0                    0.0                   0.305                  0.308   \n",
       "\n",
       "   distances_dcr_share  \n",
       "0                0.511  "
      ]
     },
     "execution_count": 7,
     "metadata": {},
     "output_type": "execute_result"
    }
   ],
   "source": [
    "pd.json_normalize(metrics.model_dump(), sep=\"_\")"
   ]
  },
  {
   "cell_type": "code",
   "execution_count": 6,
   "id": "22e5097c-9e74-417b-bea6-2c4f60300f5a",
   "metadata": {},
   "outputs": [
    {
     "data": {
      "text/plain": [
       "{'accuracy': {'overall': 0.937,\n",
       "  'univariate': 0.961,\n",
       "  'bivariate': 0.912,\n",
       "  'coherence': None,\n",
       "  'overall_max': 0.959,\n",
       "  'univariate_max': 0.976,\n",
       "  'bivariate_max': 0.941,\n",
       "  'coherence_max': None},\n",
       " 'similarity': {'cosine_similarity_training_synthetic': 0.9995158,\n",
       "  'cosine_similarity_training_holdout': 0.9998459,\n",
       "  'discriminator_auc_training_synthetic': 0.592,\n",
       "  'discriminator_auc_training_holdout': 0.503},\n",
       " 'distances': {'ims_training': 0.0,\n",
       "  'ims_holdout': 0.0,\n",
       "  'dcr_training': 0.305,\n",
       "  'dcr_holdout': 0.308,\n",
       "  'dcr_share': 0.511}}"
      ]
     },
     "execution_count": 6,
     "metadata": {},
     "output_type": "execute_result"
    }
   ],
   "source": [
    "metrics.model_dump()"
   ]
  },
  {
   "cell_type": "code",
   "execution_count": null,
   "id": "d6ee341f-8fe4-43dd-9d8e-fd44f6039c61",
   "metadata": {},
   "outputs": [],
   "source": []
  }
 ],
 "metadata": {
  "kernelspec": {
   "display_name": "Python 3 (ipykernel)",
   "language": "python",
   "name": "python3"
  },
  "language_info": {
   "codemirror_mode": {
    "name": "ipython",
    "version": 3
   },
   "file_extension": ".py",
   "mimetype": "text/x-python",
   "name": "python",
   "nbconvert_exporter": "python",
   "pygments_lexer": "ipython3",
   "version": "3.11.7"
  }
 },
 "nbformat": 4,
 "nbformat_minor": 5
}
