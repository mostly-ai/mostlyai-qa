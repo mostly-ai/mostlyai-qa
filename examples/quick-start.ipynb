{
 "cells": [
  {
   "cell_type": "markdown",
   "id": "e0de43fa-e337-4590-ac48-9574c2283795",
   "metadata": {},
   "source": [
    "# Example: Quick start"
   ]
  },
  {
   "cell_type": "code",
   "execution_count": null,
   "id": "5c2afb34-600a-42a0-86c1-4ccdce006adf",
   "metadata": {},
   "outputs": [],
   "source": [
    "import pandas as pd\n",
    "import webbrowser\n",
    "import json\n",
    "from mostlyai import qa\n",
    "\n",
    "# fetch original + synthetic data\n",
    "base_url = 'https://github.com/mostly-ai/mostlyai-qa/raw/refs/heads/main/examples/quick-start'\n",
    "syn = pd.read_csv(f'{base_url}/census2k-syn_mostly.csv.gz')\n",
    "# syn = pd.read_csv(f'{base_url}/census2k-syn_flip30.csv.gz') # a 30% perturbation of trn\n",
    "trn = pd.read_csv(f'{base_url}/census2k-trn.csv.gz')\n",
    "hol = pd.read_csv(f'{base_url}/census2k-hol.csv.gz')\n",
    "\n",
    "# runs for ~30secs\n",
    "report_path, metrics = qa.report(\n",
    "    syn_tgt_data = syn,\n",
    "    trn_tgt_data = trn,\n",
    "    hol_tgt_data = hol,\n",
    ")\n",
    "\n",
    "# pretty print metrics\n",
    "print(json.dumps(metrics, indent=4))\n",
    "\n",
    "# open up HTML report in new browser window\n",
    "webbrowser.open(f\"file://{report_path.absolute()}\")"
   ]
  }
 ],
 "metadata": {
  "kernelspec": {
   "display_name": "Python 3 (ipykernel)",
   "language": "python",
   "name": "python3"
  },
  "language_info": {
   "codemirror_mode": {
    "name": "ipython",
    "version": 3
   },
   "file_extension": ".py",
   "mimetype": "text/x-python",
   "name": "python",
   "nbconvert_exporter": "python",
   "pygments_lexer": "ipython3",
   "version": "3.11.7"
  }
 },
 "nbformat": 4,
 "nbformat_minor": 5
}
