{
 "cells": [
  {
   "cell_type": "markdown",
   "id": "69353b2e-f692-4cfe-a9d9-cee56a0fc2ba",
   "metadata": {},
   "source": [
    "# Example: Baseball Players (Flat Data)"
   ]
  },
  {
   "cell_type": "code",
   "execution_count": null,
   "id": "082b3689-2807-420b-8bb7-a9a40cedf3c3",
   "metadata": {},
   "source": [
    "import pandas as pd\n",
    "import webbrowser\n",
    "from pathlib import Path\n",
    "from mostlyai.qa import report\n",
    "\n",
    "wdir = Path(\"baseball-players\")"
   ],
   "outputs": []
  },
  {
   "cell_type": "markdown",
   "id": "ccd6ccdb-262e-4128-9174-0bd010c751f4",
   "metadata": {},
   "source": [
    "## Case 1: Players Table only"
   ]
  },
  {
   "cell_type": "code",
   "execution_count": null,
   "id": "95f6914a-e6cf-4e1f-8183-7f482228317f",
   "metadata": {},
   "source": [
    "report_path, metrics = report(\n",
    "    syn_tgt_data=pd.read_parquet(wdir / \"generated-data\"),\n",
    "    trn_tgt_data=pd.read_parquet(wdir / \"tgt-data\" / \"part.000000-trn.parquet\"),\n",
    "    hol_tgt_data=pd.read_parquet(wdir / \"tgt-data\" / \"part.000000-val.parquet\"),\n",
    "    report_subtitle=\" for Baseball Players\",\n",
    "    report_path=\"baseball-players.html\",\n",
    ")\n",
    "metrics"
   ],
   "outputs": []
  },
  {
   "cell_type": "code",
   "execution_count": null,
   "id": "88046c1f-0343-4e15-a1d0-ab2191417492",
   "metadata": {},
   "source": [
    "webbrowser.open(f\"file://{report_path.absolute()}\")"
   ],
   "outputs": []
  },
  {
   "cell_type": "markdown",
   "id": "7d472448-095c-4b89-a707-932b29f35e24",
   "metadata": {},
   "source": [
    "## Case 2: Players Table with Context"
   ]
  },
  {
   "cell_type": "code",
   "execution_count": null,
   "id": "b45c06d4-1a7e-4bf2-aa83-f3f6e411caa9",
   "metadata": {},
   "source": [
    "report_path, metrics = report(\n",
    "    syn_tgt_data=pd.read_parquet(wdir / \"generated-data\"),\n",
    "    syn_ctx_data=pd.read_parquet(wdir / \"ctx-data\"),\n",
    "    trn_tgt_data=pd.read_parquet(wdir / \"tgt-data\" / \"part.000000-trn.parquet\"),\n",
    "    trn_ctx_data=pd.read_parquet(wdir / \"ctx-data\" / \"part.000000-trn.parquet\"),\n",
    "    hol_tgt_data=pd.read_parquet(wdir / \"tgt-data\" / \"part.000000-val.parquet\"),\n",
    "    hol_ctx_data=pd.read_parquet(wdir / \"ctx-data\" / \"part.000000-val.parquet\"),\n",
    "    tgt_context_key=\"id\",\n",
    "    ctx_primary_key=\"id\",\n",
    "    report_subtitle=\" for Baseball Players\",\n",
    "    report_path=\"baseball-players-with-context.html\",\n",
    ")\n",
    "metrics"
   ],
   "outputs": []
  },
  {
   "cell_type": "code",
   "execution_count": null,
   "id": "00aa1fe7-6a9a-40c6-94d0-8b03632f1fa8",
   "metadata": {},
   "source": [
    "webbrowser.open(f\"file://{report_path.absolute()}\")"
   ],
   "outputs": []
  }
 ],
 "metadata": {
  "kernelspec": {
   "display_name": "Python 3 (ipykernel)",
   "language": "python",
   "name": "python3"
  },
  "language_info": {
   "codemirror_mode": {
    "name": "ipython",
    "version": 3
   },
   "file_extension": ".py",
   "mimetype": "text/x-python",
   "name": "python",
   "nbconvert_exporter": "python",
   "pygments_lexer": "ipython3",
   "version": "3.10.0"
  },
  "toc": {
   "base_numbering": 1,
   "nav_menu": {},
   "number_sections": false,
   "sideBar": true,
   "skip_h1_title": false,
   "title_cell": "Table of Contents",
   "title_sidebar": "Contents",
   "toc_cell": false,
   "toc_position": {},
   "toc_section_display": true,
   "toc_window_display": false
  }
 },
 "nbformat": 4,
 "nbformat_minor": 5
}
