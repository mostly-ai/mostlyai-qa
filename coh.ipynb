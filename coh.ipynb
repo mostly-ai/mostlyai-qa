{
 "cells": [
  {
   "cell_type": "markdown",
   "metadata": {},
   "source": [
    "# CATEGORIES PER SEQUENCE"
   ]
  },
  {
   "cell_type": "code",
   "execution_count": null,
   "metadata": {},
   "outputs": [],
   "source": [
    "import pandas as pd\n",
    "\n",
    "df_tgt = pd.read_csv(\"https://github.com/mostly-ai/public-demo-data/raw/refs/heads/dev/baseball/batting.csv.gz\")\n",
    "df_tgt.head(2)"
   ]
  },
  {
   "cell_type": "code",
   "execution_count": null,
   "metadata": {},
   "outputs": [],
   "source": [
    "from mostlyai.qa._coherence import pull_data_for_coherence\n",
    "\n",
    "df_tgt = pull_data_for_coherence(df_tgt=df_tgt, tgt_context_key=\"players_id\")\n",
    "df_tgt.head(2)"
   ]
  },
  {
   "cell_type": "code",
   "execution_count": null,
   "metadata": {},
   "outputs": [],
   "source": [
    "from mostlyai.qa._coherence import calculate_categories_per_sequence\n",
    "\n",
    "categories_per_sequence_df = calculate_categories_per_sequence(df=df_tgt, context_key=\"players_id\")\n",
    "categories_per_sequence_df.head(2)"
   ]
  },
  {
   "cell_type": "code",
   "execution_count": null,
   "metadata": {},
   "outputs": [],
   "source": [
    "from mostlyai.qa._accuracy import calculate_numeric_uni_kdes\n",
    "\n",
    "trn_num_kdes = calculate_numeric_uni_kdes(categories_per_sequence_df)\n",
    "trn_num_kdes[\"team\"]"
   ]
  },
  {
   "cell_type": "code",
   "execution_count": null,
   "metadata": {},
   "outputs": [],
   "source": [
    "from mostlyai.qa._accuracy import bin_data\n",
    "\n",
    "\n",
    "cat_share_per_sequence_binned = bin_data(categories_per_sequence_df, bins=10)[0]\n",
    "cat_share_per_sequence_binned.head(2)"
   ]
  },
  {
   "cell_type": "code",
   "execution_count": null,
   "metadata": {},
   "outputs": [],
   "source": [
    "from mostlyai.qa._accuracy import calculate_categorical_uni_counts\n",
    "\n",
    "\n",
    "trn_bin_col_cnts = calculate_categorical_uni_counts(df=cat_share_per_sequence_binned, hash_rare_values=False)\n",
    "trn_bin_col_cnts[\"team\"]"
   ]
  },
  {
   "cell_type": "code",
   "execution_count": null,
   "metadata": {},
   "outputs": [],
   "source": [
    "from mostlyai.qa._accuracy import plot_univariate\n",
    "\n",
    "for col in categories_per_sequence_df.columns:\n",
    "    if col != \"players_id\":  # Skip the context key\n",
    "        display(\n",
    "            plot_univariate(\n",
    "                col_name=col,\n",
    "                trn_num_kde=trn_num_kdes.get(col),\n",
    "                syn_num_kde=trn_num_kdes.get(col),\n",
    "                trn_cat_col_cnts=None,\n",
    "                syn_cat_col_cnts=None,\n",
    "                trn_bin_col_cnts=trn_bin_col_cnts[col],\n",
    "                syn_bin_col_cnts=trn_bin_col_cnts[col],\n",
    "                accuracy=0.5,\n",
    "            )\n",
    "        )"
   ]
  },
  {
   "cell_type": "markdown",
   "metadata": {},
   "source": [
    "# SEQUENCES PER CATEGORY"
   ]
  },
  {
   "cell_type": "code",
   "execution_count": null,
   "metadata": {},
   "outputs": [],
   "source": [
    "from mostlyai.qa._coherence import calculate_sequences_per_category\n",
    "\n",
    "sequences_per_category_dict, sequences_per_category_binned_dict, cnt_sum = calculate_sequences_per_category(\n",
    "    df=df_tgt, context_key=\"players_id\"\n",
    ")\n",
    "display(sequences_per_category_dict[\"team\"].head(2))\n",
    "display(sequences_per_category_binned_dict[\"team\"])"
   ]
  },
  {
   "cell_type": "code",
   "execution_count": null,
   "metadata": {},
   "outputs": [],
   "source": [
    "from mostlyai.qa._accuracy import plot_univariate\n",
    "\n",
    "for col in categories_per_sequence_df.columns:\n",
    "    if col != \"players_id\":  # Skip the context key\n",
    "        display(\n",
    "            plot_univariate(\n",
    "                col_name=col,\n",
    "                trn_num_kde=None,\n",
    "                syn_num_kde=None,\n",
    "                trn_cat_col_cnts=sequences_per_category_dict[col],\n",
    "                syn_cat_col_cnts=sequences_per_category_dict[col],\n",
    "                trn_bin_col_cnts=sequences_per_category_binned_dict[col],\n",
    "                syn_bin_col_cnts=sequences_per_category_binned_dict[col],\n",
    "                accuracy=0.5,\n",
    "                trn_cnt_sum=cnt_sum,\n",
    "                syn_cnt_sum=cnt_sum,\n",
    "            )\n",
    "        )"
   ]
  },
  {
   "cell_type": "code",
   "execution_count": null,
   "metadata": {},
   "outputs": [],
   "source": []
  }
 ],
 "metadata": {
  "kernelspec": {
   "display_name": ".venv",
   "language": "python",
   "name": "python3"
  },
  "language_info": {
   "codemirror_mode": {
    "name": "ipython",
    "version": 3
   },
   "file_extension": ".py",
   "mimetype": "text/x-python",
   "name": "python",
   "nbconvert_exporter": "python",
   "pygments_lexer": "ipython3",
   "version": "3.10.16"
  }
 },
 "nbformat": 4,
 "nbformat_minor": 2
}
